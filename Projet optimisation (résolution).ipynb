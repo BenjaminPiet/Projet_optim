{
 "cells": [
  {
   "cell_type": "markdown",
   "metadata": {},
   "source": [
    "# Projet Optimisation (groupe 6) - Benjamin Piet & Damien Capéraa\n",
    "\n",
    "## 2. Etude et resolution numerique\n",
    "\n",
    "### Question 1\n",
    "\n",
    "Notre problème d'optimisation est le suivant : \n",
    "$$\\min_{C^Tp - d}\\frac{1}{2}p^TAp-b^Tp$$\\\n",
    "On note $f(p)=\\frac{1}{2}p^TAp-b^Tp$ la fonction coût et $c(p)=C^Tp-d$ les contraintes.\n",
    "Dans la suite, on notera $x = p$ pour éviter toute confusion entre la variable des prix $p$ et les directions de descente."
   ]
  },
  {
   "cell_type": "markdown",
   "metadata": {},
   "source": [
    "##### Etude du problème\n",
    "La fonction f est **fortement convexe** car la matrice $A$ est symétrique definie positive. Pour le démontrer, on peut déjà remarquer que $A$ est symétrique puis utiliser le théorème d'éuivalence $A \\in S_n^{++}(\\mathbb{R}) \\Leftrightarrow A \\in S_n(\\mathbb{R}) \\, et \\, Sp(A) \\subset \\mathbb{R}^{+*}$ et calculer les valeurs propres de A avec Python :"
   ]
  },
  {
   "cell_type": "code",
   "execution_count": 3,
   "metadata": {},
   "outputs": [
    {
     "name": "stdout",
     "output_type": "stream",
     "text": [
      "Liste des valeurs propres de A : [0.02753417 0.00496583 3.0825     0.0405    ]\n"
     ]
    }
   ],
   "source": [
    "import numpy as np\n",
    "A = np.array([[3.0825, 0, 0, 0], [0, 0.0405, 0, 0], [0, 0, 0.0271, -0.0031], \\\n",
    "     [0, 0, -0.0031, 0.0054]])\n",
    "valeurs_propres = np.linalg.eig(A)[0]\n",
    "print(f\"Liste des valeurs propres de A : {valeurs_propres}\")"
   ]
  },
  {
   "cell_type": "markdown",
   "metadata": {},
   "source": [
    "Toutes les valeurs propres de $A$ étant strictement positives, elle est symétrique définie positive. Par conséquent, la fonction de coût quadratique f est convexe.\\\n",
    "De plus, l'ensemble de recherche est convexe, car les contraintes sont toutes affines.\n",
    "On a donc **l'existence d'un unique minimum global**.\\\n",
    "\\\n",
    "Le conditionnement du problème vaut :\n",
    "$$K(A) = \\frac{max(Sp(A))}{min(Sp(A))} = 620,7$$\n",
    "***Faire des recherches sur le conditionnement***"
   ]
  },
  {
   "cell_type": "markdown",
   "metadata": {},
   "source": [
    "##### Choix d'une méthode de résolution\n",
    "* Les contraintes de notre problème sont des contraintes d'inégalités. Nous proposons d'utiliser un algorithme de recherche du point selle du Lagrangien. En effet, un point $(x^*, \\lambda ^*)$ est un point selle du Lagrangien si et seulement si $x^*$ est solution du problème d'otpimisation.\n",
    "* En outre, si l'on suppose que les contraintes actives en $x^*$ sont qualifiées, alors la convexite de $f$ garantit l'existence d'un point selle du Lagrangien grâce au théorème 29 du cours.\n",
    "* Finalement, nous proposons d'implémenter **l'algorithme d'Uzawa**, qui repose bien sur le concept de dualité du problème (p.38 du polycopié) : à partir de $x^0 \\in \\mathbb{R}^4$, $\\lambda^0 \\in \\mathbb{R}^7$, $\\rho \\in \\mathbb{R}^+$ quelconques, on note $\\mathbb{R}^7 \\ni \\lambda \\mapsto P(\\lambda) \\in (\\mathbb{R}^+)^7$ la projection sur $(\\mathbb{R}^+)^7$, itérer : \n",
    "    * résoudre $\\min_{x \\in \\mathbb{R}^4} \\mathcal{L}(x, \\lambda ^k)$, on note $x^{k+1}$ la solution ;\n",
    "    * $\\lambda ^{k+1} = P(\\lambda ^k + \\rho c(x^{k+1}))$.\n",
    "* Pour la partie minimisation, nous allons utiliser un algorithme de gradient à pas optimal, en déterminant un pas à chaque itération à l'aide des conditions de Wolfe."
   ]
  },
  {
   "cell_type": "markdown",
   "metadata": {},
   "source": [
    "### Question 2\n",
    "\n",
    "   En fait, après avoir testé avec la fonction scipy.optimize pour avoir une idée de la valeur attendu, nous avons trouvé que l'algorithme à pas fixe semble mieux converger que celui à pas de Wolfe, et en moins de temps (même si le nombre d'iteration est bien plus grand, le temps d'execution est plus faible).\\\n",
    "   Nous mettons tous de même les deux algorithmes, mais nous vous conseillons de ne pas lancer celui à pas de Wolfe"
   ]
  },
  {
   "cell_type": "code",
   "execution_count": 4,
   "metadata": {},
   "outputs": [],
   "source": [
    "#Mise en place des fonctions et valeurs numÃ©riques\n",
    "import numpy as np\n",
    "\n",
    "A = np.array([[3.0825, 0, 0, 0], [0, 0.0405, 0, 0], [0, 0, 0.0271, -0.0031], \\\n",
    "\t[0, 0, -0.0031, 0.0054]])\n",
    "b = np.array([[2671], [135], [103], [19]])\n",
    "C = np.array([[-0.0401, -0.1326, 1.5413, 0.0, 0.0, 0.0, 0.0160], \\\n",
    "\t[-0.0162, -0.0004, 0.0, 0.0203, 0.0, 0.0, 0.0004], \\\n",
    "\t[-0.0039, -0.0034, 0.0, 0.0, 0.0136, -0.0016, 0.0005], \\\n",
    "\t[0.0002, 0.0006, 0.0, 0.0, -0.0015, 0.0027, 0.0002]])\n",
    "d = np.array([[-92.6], [-29.0], [2671], [135], [103], [19], [10]])\n",
    "eps = 1e-8 # paramÃ¨tre donnant la valeur maximale des composantes\n",
    "# de la direction pk pour que pk ne soit pas considÃ©rÃ©e comme nulle.\n",
    "\n",
    "def f(p):\n",
    "\treturn float(0.5 * np.matmul(p.T, np.matmul(A, p)) - np.dot(b.T, p))\n",
    "\n",
    "def c(p):\n",
    "\treturn np.matmul(C.T, p) - d\n",
    "\n",
    "def grad_f(p):\n",
    "\treturn np.matmul(A, p) - b\n",
    "\n",
    "def grad_c(p):\n",
    "\treturn C\n",
    "\n",
    "x0 = np.ones((4, 1))\n",
    "lambda0 = 100*np.ones((7, 1))"
   ]
  },
  {
   "cell_type": "code",
   "execution_count": 5,
   "metadata": {},
   "outputs": [
    {
     "name": "stdout",
     "output_type": "stream",
     "text": [
      "Uzawa fixed step...\n",
      "Nombre d'iterations :  2002225\n",
      "lambdak :  [[ 4106.17888248]\n",
      " [    0.        ]\n",
      " [    0.        ]\n",
      " [    0.        ]\n",
      " [    0.        ]\n",
      " [    0.        ]\n",
      " [96268.16780048]]\n",
      "x_fixed_step :  [[ 420.23263208]\n",
      " [4025.00816724]\n",
      " [2774.95779496]\n",
      " [1393.98145128]]\n",
      "c(x_fixed_step) :  [[ 3.43035822e-08]\n",
      " [-3.69313179e+01]\n",
      " [-2.02329544e+03]\n",
      " [-5.32923342e+01]\n",
      " [-6.73515462e+01]\n",
      " [-1.96761826e+01]\n",
      " [ 5.67878631e-07]]\n"
     ]
    }
   ],
   "source": [
    "def uzawa_fixed_step(fun, grad_fun, c, grad_c, x0, l, rho, lambda0, max_iter = 10000000, epsilon_grad_L = 1e-8):\n",
    "\tk = 0\n",
    "\txk = x0\n",
    "\tlambdak = lambda0\n",
    "\tgrad_Lagrangien_xk = grad_fun(xk) + np.matmul(grad_c(xk), lambdak)\n",
    "\twhile ((k < max_iter) and (np.linalg.norm(grad_Lagrangien_xk) > epsilon_grad_L)):\n",
    "\t\tgrad_Lagrangien_xk = grad_fun(xk) + np.matmul(grad_c(xk), lambdak)\n",
    "\t\tpk = -grad_Lagrangien_xk\n",
    "\t\txk = xk + l*pk\n",
    "\t\tlambdak = np.array([[max(0, lambdak[i, 0] + rho*c(xk)[i, 0])] for i in range(7)]) # projection sur R+^7\n",
    "\t\tk = k + 1\n",
    "\tprint(\"Nombre d'iterations : \", k)\n",
    "\tprint(\"lambdak : \", lambdak)\n",
    "\treturn xk\n",
    "\n",
    "print(\"Uzawa fixed step...\")\n",
    "#Note: après avoir testé l'algo avec conditions de wolfe, on a un pas au début \n",
    "#qui est au alentours de 0.5, puis arrive vers 4 à la fin. \n",
    "#C'est pour cela que nous avons choisi un pas de 0.5 pour l'ago à pas fixe\n",
    "x_fixed_step = uzawa_fixed_step(f, grad_f, c, grad_c, x0, 0.5, 0.1, lambda0)\n",
    "\n",
    "print(\"x_fixed_step : \", x_fixed_step)\n",
    "print(\"c(x_fixed_step) : \", c(x_fixed_step))"
   ]
  },
  {
   "cell_type": "code",
   "execution_count": null,
   "metadata": {},
   "outputs": [],
   "source": [
    "def wolfe_step(fun, grad_fun, xk, pk, c1 = 0.25, c2 = 0.75, M = 1000):\n",
    "\tl_moins = 0\n",
    "\tl_plus = 0\n",
    "\tf_xk = fun(xk)\n",
    "\tgrad_f_xk = grad_fun(xk)\n",
    "\tli = 0.001\n",
    "\ti = 0\n",
    "\twhile(i < M):\n",
    "\t\tif (fun(xk + li*pk) > (f_xk + c1*li*np.dot(grad_f_xk.T, pk))):\n",
    "\t\t\tl_plus = li\n",
    "\t\t\tli = (l_moins + l_plus)/2.0\n",
    "\t\telse:\n",
    "\t\t\tif (np.dot(grad_fun(xk + li*pk).T, pk) < c2*np.dot(grad_f_xk.T, pk)):\n",
    "\t\t\t\tl_moins = li\n",
    "\t\t\t\tif (l_plus == 0):\n",
    "\t\t\t\t\tli = 2*li\n",
    "\t\t\t\telse:\n",
    "\t\t\t\t\tli = (l_moins + l_plus)/2.0\n",
    "\t\t\telse:\n",
    "\t\t\t\treturn li\n",
    "\t\ti = i + 1\n",
    "\treturn li\n",
    "\n",
    "\n",
    "def uzawa_wolfe_step(fun, grad_fun, c, grad_c, x0, rho, lambda0, max_iter = 1000000, epsilon_grad_L = 1e-3):\n",
    "\tk = 0\n",
    "\txk = x0\n",
    "\tlambdak = lambda0\n",
    "\tgrad_Lagrangienk_xk = grad_fun(xk) + np.matmul(grad_c(xk), lambdak)\n",
    "\twhile ((k < max_iter) and (np.linalg.norm(grad_Lagrangienk_xk) > epsilon_grad_L)):\n",
    "\t\tLagrangienk = lambda x : fun(x) + np.dot(lambdak.T, c(x))\n",
    "\t\tgrad_Lagrangienk = lambda x : grad_fun(x) + np.matmul(grad_c(x), lambdak)\n",
    "\t\tgrad_Lagrangienk_xk = grad_Lagrangienk(xk)\n",
    "\t\tpk = -grad_Lagrangienk_xk\n",
    "\t\tlk = wolfe_step(Lagrangienk, grad_Lagrangienk, xk, pk)\n",
    "\t\txk = xk + lk*pk\n",
    "\t\tlambdak = np.array([[max(0, lambdak[i, 0] + rho*c(xk)[i, 0])] for i in range(7)]) # projection sur R+^7\n",
    "\t\tk = k + 1\n",
    "\tprint(\"Nombre d'iterations : \", k)\n",
    "\tprint(\"lk : \", lk)\n",
    "\treturn xk\n",
    "\n",
    "print(uzawa_wolfe_step(f, grad_f, c, grad_c, x0, 0.1, lambda0))"
   ]
  },
  {
   "cell_type": "code",
   "execution_count": null,
   "metadata": {},
   "outputs": [],
   "source": [
    "#scipy.optimize"
   ]
  },
  {
   "cell_type": "markdown",
   "metadata": {},
   "source": [
    "On trouve donc comme prix en euros/tonnes optimal de :\n",
    "* ***420*** pour le ***lait***\n",
    "* ***4025*** pour le ***beurre***\n",
    "* ***2775*** pour le ***gouda***\n",
    "* ***1394*** pour le ***edam***"
   ]
  },
  {
   "cell_type": "markdown",
   "metadata": {},
   "source": [
    "Cela fait donc comme quantité:\n",
    "* 2023 tonnes pour le lait\n",
    "* 53.3 tonnes pour le beurre\n",
    "* 67.4 tonnes pour le gouda\n",
    "* 19.9 tonnes pour l'edam"
   ]
  },
  {
   "cell_type": "markdown",
   "metadata": {},
   "source": [
    "Notes: nous ne sommes pas totalement sur au niveau des unités"
   ]
  },
  {
   "cell_type": "markdown",
   "metadata": {},
   "source": [
    "## 3. Etude avancée\n",
    "\n",
    "### Question 1\n",
    "\n",
    "Tout d'abord, au vu des resultats, on peut supposer que seuls les contraintes 1 et 7 sont actives. Ce qui donne alors comme équations (en annulant le gradient du lagrangien)\n",
    "$$3.0825p_1-0.0401\\lambda_1+0.016\\lambda_7+2671=0$$\n",
    "$$0.0405p_2-0.0162\\lambda_1+0.0004\\lambda_7+135=0$$\n",
    "$$0.0271p_3-0.0031p_4-0.0039\\lambda_1+0.0005\\lambda_7+103$$\n",
    "$$-0.0031p_3+0.0054p_4+0.0002\\lambda_1+0.0002\\lambda_7+19=0$$\n",
    "$$0.0401p_1+0.0162p_2+0.0039p_3-0.0002p_4=92.6$$\n",
    "$$0.0160p_1+0.0004p_2+0.0005p_3+0.0002p_4=10$$"
   ]
  },
  {
   "cell_type": "markdown",
   "metadata": {},
   "source": [
    "Il suffit alors de résoudre ce système. On peut pour cela utiliser python qui facilitera notre tache."
   ]
  },
  {
   "cell_type": "code",
   "execution_count": null,
   "metadata": {},
   "outputs": [],
   "source": []
  },
  {
   "cell_type": "markdown",
   "metadata": {},
   "source": [
    "## Annexe\n",
    "\n",
    "Nous avons, dans la partie 2, essayé dans un premier temps de developper un algorithme des contraintes actives pour résoudre le problème. Nous mettons ici ce que nous avons accompli, même si il n'y a pas convergence."
   ]
  },
  {
   "cell_type": "markdown",
   "metadata": {},
   "source": [
    "**Etape 2 (a) de l'algorithme : résolution du problème d'otpimisation sous contraintes d'égalité** \\\n",
    "L'étape consiste à résoudre $\\displaystyle \\min_{c_i^Tp = 0, i \\in W^k} \\frac{1}{2}p^TGp + (Gx^k + d)^Tp$.\n",
    "On introduit le Lagrangien du problème $\\mathcal{L}(p, \\lambda) = \\frac{1}{2}p^TGp + (Gx^k + d)^Tp + \\lambda^TD^Tp$ ou $D$ est la matrice composée des colonnes $c_i$ de C pour $i \\in W^k$.\n",
    "Un point stationnaire du Lagrangien sans contraintes est un point stationnaire de la fonction coût sous contraintes : on cherche donc le point $(p^*, \\lambda^*)$ qui annule les deux dérivées partielles de $\\mathcal{L}$.\n",
    "$$\n",
    "\\begin{align}\n",
    "\\frac{\\partial\\mathcal{L}}{\\partial\\lambda}(p^*, \\lambda^*) &= 0 = D^Tp \\\\\n",
    "\\frac{\\partial\\mathcal{L}}{\\partial p}(p^*, \\lambda^*) &= 0 = Ap + (Ax^k + b) + D\\lambda \\\\\n",
    "\\end{align}$$\n",
    "On réécrit le problème sous forme matricielle car c'est la formulation qui peut être exploitée avec la fonction numpy `np.linalg.solve`.\n",
    "$$\n",
    "\\begin{pmatrix} D^T&0 \\\\\n",
    "A&D\\\\\n",
    "\\end{pmatrix}\n",
    "\\begin{pmatrix} p \\\\\n",
    "\\lambda \\\\\n",
    "\\end{pmatrix}\n",
    "=\n",
    "\\begin{pmatrix} 0 \\\\\n",
    "-Ax^k - b \\\\\n",
    "\\end{pmatrix}\n",
    "$$"
   ]
  },
  {
   "cell_type": "code",
   "execution_count": 1,
   "metadata": {},
   "outputs": [],
   "source": [
    "#Algorithme des contraintes actives\n",
    "import numpy as np\n",
    "\n",
    "A = np.array([[3.0825, 0, 0, 0], [0, 0.0405, 0, 0], [0, 0, 0.0271, -0.0031], \\\n",
    "     [0, 0, -0.0031, 0.0054]])\n",
    "b = np.array([[2671], [135], [103], [19]])\n",
    "C = np.array([[-0.0401, -0.0162, -0.0039, 0.0002], \\\n",
    "    [-0.1326, -0.0004, -0.0034, 0.0006], [1.5413, 0, 0, 0], \\\n",
    "    [0, 0.0203, 0, 0], [0, 0, 0.0136, -0.0015], \\\n",
    "    [0, 0, -0.0016, 0.0027], [0.0160, 0.0004, 0.0005, 0.0002]]).transpose()\n",
    "d = np.array([[-92.6], [-29.0], [2671], [135], [103], [19], [10]])\n",
    "eps = 1e-8 # paramètre donnant la valeur maximale des composantes\n",
    "# de la direction pk pour que pk ne soit pas considérée comme nulle.\n",
    "\n",
    "def f(p):\n",
    "    return float(0.5 * np.matmul(p.transpose(), np.matmul(A, p)) - np.dot(b.transpose(), p))\n",
    "\n",
    "def c(p):\n",
    "    return np.matmul(C.transpose(), p) - d\n",
    "\n",
    "\n",
    "def xk_is_solution(xk, Wk):\n",
    "    '''\n",
    "    Etape 1 de l'algorithme des contraintes actives.\n",
    "    Détermine, grâce aux conditions KKT, si xk est une solution du problème\n",
    "    d'optimisation restreint aux contraintes contenues dans Wk.\n",
    "    '''\n",
    "    CC = C[:, Wk]\n",
    "    dd = d[Wk, :]\n",
    "    rg = np.linalg.matrix_rank(CC)\n",
    "    if rg == len(Wk):\n",
    "        # Les contraintes actives sont qualifiées\n",
    "        # Conditions de relâchement\n",
    "        Wk_systeme = Wk.copy()\n",
    "        for i, c_i in enumerate([CC[:, j] for j in range(len(Wk))]):\n",
    "            if np.dot(c_i, xk) -  dd[i, 0] != 0:\n",
    "                # Lambda_i = 0 : on retire la contrainte Wk_systeme[i]\n",
    "                del Wk_systeme[Wk_systeme.index(Wk[i])]\n",
    "        Lambda = np.zeros((len(Wk), 1))\n",
    "        print(Wk_systeme)\n",
    "        if len(Wk_systeme) != 0:\n",
    "            CC_systeme = C[:, Wk_systeme]\n",
    "            dd_systeme = d[Wk_systeme, :]\n",
    "            Lambda_systeme = np.linalg.solve(CC_systeme.transpose(), dd_systeme)\n",
    "            for j in Wk:\n",
    "                if j in Wk_systeme:\n",
    "                    Lambda[Wk.index(j), 0] = Lambda_systeme[Wk_systeme.index(j), 0]\n",
    "        return all([Lambda[i, 0] > 0 for i in range(len(Wk))]), Lambda\n",
    "    else:\n",
    "        # Les contraintes actives ne sont pas qualifiées\n",
    "        return False, None\n",
    "\n",
    "W0 = [0, 1, 2, 3] # arbitraire mais permet de n'avoir qu'un point de départ possible\n",
    "# car le système à résoudre contient 4 équations pour 4 inconnues.\n",
    "# Recherche de p0 où ces 4 contraintes sont actives\n",
    "CC = C[:, W0]\n",
    "dd = d[W0, :]\n",
    "x0 = np.linalg.solve(CC.transpose(), dd)\n",
    "\n",
    "def contraintes():\n",
    "    xk = x0\n",
    "    Wk = W0\n",
    "    while True:\n",
    "        if xk_is_solution(xk, Wk)[0]:\n",
    "            return xk, Wk\n",
    "        # (a)\n",
    "        '''\n",
    "        L'étape (a) consiste à résoudre un problème d'optimisation sous\n",
    "        contraintes d'égalité. On cherche alors (p*, Lambda*) point stationnaire\n",
    "        du lagrangien associé. Cette recherche, comme présenté dans le notebook,\n",
    "        aboutit à la résolution d'un système linéaire.\n",
    "        '''\n",
    "        D = C[:, Wk]\n",
    "        E_ligne_0 = np.concatenate((D.transpose(), np.zeros((D.shape[1], D.shape[1]))), axis=1)\n",
    "        E_ligne_1 = np.concatenate((A, D), axis=1)\n",
    "        E = np.concatenate((E_ligne_0, E_ligne_1), axis=0)\n",
    "        F = np.concatenate((np.zeros((D.shape[1], 1)), -np.matmul(A, xk) + b), axis=0)\n",
    "        X = np.linalg.solve(E, F)\n",
    "        pk = X[0:4, :]\n",
    "        if any([abs(pk[i, 0]) > eps for i in range(4)]):\n",
    "            # (b) : pk != 0\n",
    "            W_barre = [i for i in range(7) if i not in Wk]\n",
    "            L, indices = [], []\n",
    "            for i in W_barre:\n",
    "                c_i = C[:,i]\n",
    "                if np.dot(c_i, pk) > 0:\n",
    "                    L.append((d[i, 0] - np.dot(c_i, xk))/np.dot(c_i, pk))\n",
    "                    indices.append(i)\n",
    "            if L != []:\n",
    "                alphak = min(1, min(L))\n",
    "            else:\n",
    "                alphak = 1\n",
    "            xk = xk + alphak*pk\n",
    "            if alphak < 1:\n",
    "                j = indices[L.index(min(L))]\n",
    "                Wk.append(j)\n",
    "        else:\n",
    "            # (c) ! pk = 0\n",
    "            booleen, Lambda = xk_is_solution(xk, Wk)\n",
    "            if booleen:\n",
    "                return xk, Wk\n",
    "            Lambda = Lambda.tolist()\n",
    "            c = Lambda.index(min(Lambda))\n",
    "            del Wk[c]\n",
    "    return xk, Wk"
   ]
  },
  {
   "cell_type": "code",
   "execution_count": 2,
   "metadata": {},
   "outputs": [
    {
     "name": "stdout",
     "output_type": "stream",
     "text": [
      "[0, 1, 2, 3]\n",
      "[0, 1, 2, 3]\n",
      "[0, 1, 3]\n"
     ]
    },
    {
     "ename": "LinAlgError",
     "evalue": "Last 2 dimensions of the array must be square",
     "output_type": "error",
     "traceback": [
      "\u001b[1;31m---------------------------------------------------------------------------\u001b[0m",
      "\u001b[1;31mLinAlgError\u001b[0m                               Traceback (most recent call last)",
      "\u001b[1;32m<ipython-input-2-a2be22a118b3>\u001b[0m in \u001b[0;36m<module>\u001b[1;34m\u001b[0m\n\u001b[1;32m----> 1\u001b[1;33m \u001b[0mcontraintes\u001b[0m\u001b[1;33m(\u001b[0m\u001b[1;33m)\u001b[0m\u001b[1;33m\u001b[0m\u001b[1;33m\u001b[0m\u001b[0m\n\u001b[0m",
      "\u001b[1;32m<ipython-input-1-7cf1e956408b>\u001b[0m in \u001b[0;36mcontraintes\u001b[1;34m()\u001b[0m\n\u001b[0;32m     62\u001b[0m     \u001b[0mWk\u001b[0m \u001b[1;33m=\u001b[0m \u001b[0mW0\u001b[0m\u001b[1;33m\u001b[0m\u001b[1;33m\u001b[0m\u001b[0m\n\u001b[0;32m     63\u001b[0m     \u001b[1;32mwhile\u001b[0m \u001b[1;32mTrue\u001b[0m\u001b[1;33m:\u001b[0m\u001b[1;33m\u001b[0m\u001b[1;33m\u001b[0m\u001b[0m\n\u001b[1;32m---> 64\u001b[1;33m         \u001b[1;32mif\u001b[0m \u001b[0mxk_is_solution\u001b[0m\u001b[1;33m(\u001b[0m\u001b[0mxk\u001b[0m\u001b[1;33m,\u001b[0m \u001b[0mWk\u001b[0m\u001b[1;33m)\u001b[0m\u001b[1;33m[\u001b[0m\u001b[1;36m0\u001b[0m\u001b[1;33m]\u001b[0m\u001b[1;33m:\u001b[0m\u001b[1;33m\u001b[0m\u001b[1;33m\u001b[0m\u001b[0m\n\u001b[0m\u001b[0;32m     65\u001b[0m             \u001b[1;32mreturn\u001b[0m \u001b[0mxk\u001b[0m\u001b[1;33m,\u001b[0m \u001b[0mWk\u001b[0m\u001b[1;33m\u001b[0m\u001b[1;33m\u001b[0m\u001b[0m\n\u001b[0;32m     66\u001b[0m         \u001b[1;31m# (a)\u001b[0m\u001b[1;33m\u001b[0m\u001b[1;33m\u001b[0m\u001b[1;33m\u001b[0m\u001b[0m\n",
      "\u001b[1;32m<ipython-input-1-7cf1e956408b>\u001b[0m in \u001b[0;36mxk_is_solution\u001b[1;34m(xk, Wk)\u001b[0m\n\u001b[0;32m     42\u001b[0m             \u001b[0mCC_systeme\u001b[0m \u001b[1;33m=\u001b[0m \u001b[0mC\u001b[0m\u001b[1;33m[\u001b[0m\u001b[1;33m:\u001b[0m\u001b[1;33m,\u001b[0m \u001b[0mWk_systeme\u001b[0m\u001b[1;33m]\u001b[0m\u001b[1;33m\u001b[0m\u001b[1;33m\u001b[0m\u001b[0m\n\u001b[0;32m     43\u001b[0m             \u001b[0mdd_systeme\u001b[0m \u001b[1;33m=\u001b[0m \u001b[0md\u001b[0m\u001b[1;33m[\u001b[0m\u001b[0mWk_systeme\u001b[0m\u001b[1;33m,\u001b[0m \u001b[1;33m:\u001b[0m\u001b[1;33m]\u001b[0m\u001b[1;33m\u001b[0m\u001b[1;33m\u001b[0m\u001b[0m\n\u001b[1;32m---> 44\u001b[1;33m             \u001b[0mLambda_systeme\u001b[0m \u001b[1;33m=\u001b[0m \u001b[0mnp\u001b[0m\u001b[1;33m.\u001b[0m\u001b[0mlinalg\u001b[0m\u001b[1;33m.\u001b[0m\u001b[0msolve\u001b[0m\u001b[1;33m(\u001b[0m\u001b[0mCC_systeme\u001b[0m\u001b[1;33m.\u001b[0m\u001b[0mtranspose\u001b[0m\u001b[1;33m(\u001b[0m\u001b[1;33m)\u001b[0m\u001b[1;33m,\u001b[0m \u001b[0mdd_systeme\u001b[0m\u001b[1;33m)\u001b[0m\u001b[1;33m\u001b[0m\u001b[1;33m\u001b[0m\u001b[0m\n\u001b[0m\u001b[0;32m     45\u001b[0m             \u001b[1;32mfor\u001b[0m \u001b[0mj\u001b[0m \u001b[1;32min\u001b[0m \u001b[0mWk\u001b[0m\u001b[1;33m:\u001b[0m\u001b[1;33m\u001b[0m\u001b[1;33m\u001b[0m\u001b[0m\n\u001b[0;32m     46\u001b[0m                 \u001b[1;32mif\u001b[0m \u001b[0mj\u001b[0m \u001b[1;32min\u001b[0m \u001b[0mWk_systeme\u001b[0m\u001b[1;33m:\u001b[0m\u001b[1;33m\u001b[0m\u001b[1;33m\u001b[0m\u001b[0m\n",
      "\u001b[1;32mC:\\ProgramData\\Anaconda3\\lib\\site-packages\\numpy\\linalg\\linalg.py\u001b[0m in \u001b[0;36msolve\u001b[1;34m(a, b)\u001b[0m\n\u001b[0;32m    388\u001b[0m     \u001b[0ma\u001b[0m\u001b[1;33m,\u001b[0m \u001b[0m_\u001b[0m \u001b[1;33m=\u001b[0m \u001b[0m_makearray\u001b[0m\u001b[1;33m(\u001b[0m\u001b[0ma\u001b[0m\u001b[1;33m)\u001b[0m\u001b[1;33m\u001b[0m\u001b[1;33m\u001b[0m\u001b[0m\n\u001b[0;32m    389\u001b[0m     \u001b[0m_assertRankAtLeast2\u001b[0m\u001b[1;33m(\u001b[0m\u001b[0ma\u001b[0m\u001b[1;33m)\u001b[0m\u001b[1;33m\u001b[0m\u001b[1;33m\u001b[0m\u001b[0m\n\u001b[1;32m--> 390\u001b[1;33m     \u001b[0m_assertNdSquareness\u001b[0m\u001b[1;33m(\u001b[0m\u001b[0ma\u001b[0m\u001b[1;33m)\u001b[0m\u001b[1;33m\u001b[0m\u001b[1;33m\u001b[0m\u001b[0m\n\u001b[0m\u001b[0;32m    391\u001b[0m     \u001b[0mb\u001b[0m\u001b[1;33m,\u001b[0m \u001b[0mwrap\u001b[0m \u001b[1;33m=\u001b[0m \u001b[0m_makearray\u001b[0m\u001b[1;33m(\u001b[0m\u001b[0mb\u001b[0m\u001b[1;33m)\u001b[0m\u001b[1;33m\u001b[0m\u001b[1;33m\u001b[0m\u001b[0m\n\u001b[0;32m    392\u001b[0m     \u001b[0mt\u001b[0m\u001b[1;33m,\u001b[0m \u001b[0mresult_t\u001b[0m \u001b[1;33m=\u001b[0m \u001b[0m_commonType\u001b[0m\u001b[1;33m(\u001b[0m\u001b[0ma\u001b[0m\u001b[1;33m,\u001b[0m \u001b[0mb\u001b[0m\u001b[1;33m)\u001b[0m\u001b[1;33m\u001b[0m\u001b[1;33m\u001b[0m\u001b[0m\n",
      "\u001b[1;32mC:\\ProgramData\\Anaconda3\\lib\\site-packages\\numpy\\linalg\\linalg.py\u001b[0m in \u001b[0;36m_assertNdSquareness\u001b[1;34m(*arrays)\u001b[0m\n\u001b[0;32m    211\u001b[0m         \u001b[0mm\u001b[0m\u001b[1;33m,\u001b[0m \u001b[0mn\u001b[0m \u001b[1;33m=\u001b[0m \u001b[0ma\u001b[0m\u001b[1;33m.\u001b[0m\u001b[0mshape\u001b[0m\u001b[1;33m[\u001b[0m\u001b[1;33m-\u001b[0m\u001b[1;36m2\u001b[0m\u001b[1;33m:\u001b[0m\u001b[1;33m]\u001b[0m\u001b[1;33m\u001b[0m\u001b[1;33m\u001b[0m\u001b[0m\n\u001b[0;32m    212\u001b[0m         \u001b[1;32mif\u001b[0m \u001b[0mm\u001b[0m \u001b[1;33m!=\u001b[0m \u001b[0mn\u001b[0m\u001b[1;33m:\u001b[0m\u001b[1;33m\u001b[0m\u001b[1;33m\u001b[0m\u001b[0m\n\u001b[1;32m--> 213\u001b[1;33m             \u001b[1;32mraise\u001b[0m \u001b[0mLinAlgError\u001b[0m\u001b[1;33m(\u001b[0m\u001b[1;34m'Last 2 dimensions of the array must be square'\u001b[0m\u001b[1;33m)\u001b[0m\u001b[1;33m\u001b[0m\u001b[1;33m\u001b[0m\u001b[0m\n\u001b[0m\u001b[0;32m    214\u001b[0m \u001b[1;33m\u001b[0m\u001b[0m\n\u001b[0;32m    215\u001b[0m \u001b[1;32mdef\u001b[0m \u001b[0m_assertFinite\u001b[0m\u001b[1;33m(\u001b[0m\u001b[1;33m*\u001b[0m\u001b[0marrays\u001b[0m\u001b[1;33m)\u001b[0m\u001b[1;33m:\u001b[0m\u001b[1;33m\u001b[0m\u001b[1;33m\u001b[0m\u001b[0m\n",
      "\u001b[1;31mLinAlgError\u001b[0m: Last 2 dimensions of the array must be square"
     ]
    }
   ],
   "source": [
    "contraintes()"
   ]
  },
  {
   "cell_type": "code",
   "execution_count": null,
   "metadata": {},
   "outputs": [],
   "source": []
  }
 ],
 "metadata": {
  "kernelspec": {
   "display_name": "Python 3",
   "language": "python",
   "name": "python3"
  },
  "language_info": {
   "codemirror_mode": {
    "name": "ipython",
    "version": 3
   },
   "file_extension": ".py",
   "mimetype": "text/x-python",
   "name": "python",
   "nbconvert_exporter": "python",
   "pygments_lexer": "ipython3",
   "version": "3.7.3"
  }
 },
 "nbformat": 4,
 "nbformat_minor": 2
}
