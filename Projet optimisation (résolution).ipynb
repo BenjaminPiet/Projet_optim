{
 "cells": [
  {
   "cell_type": "markdown",
   "metadata": {},
   "source": [
    "# Projet Optimisation (groupe 6) - Benjamin Piet & Damien Capéraa\n",
    "\n",
    "## 2. Etude et resolution numerique\n",
    "\n",
    "### Question 1\n",
    "\n",
    "On se retrouve donc avec un problème de la forme\n",
    "$min(\\frac{1}{2}p^TAp-b^Tp|C^Tp-d<=0)$\\\n",
    "On note $f(p)=\\frac{1}{2}p^TAp-b^Tp$ et $c(p)=C^Tp-d$. \\\n",
    "\\\n",
    "Tout d'abord, la fonction f est ***fortement convexe*** car la matrice A est symmetrique definie positive. En effet, si on calcule ses valeurs propres via python:"
   ]
  },
  {
   "cell_type": "code",
   "execution_count": 3,
   "metadata": {},
   "outputs": [
    {
     "name": "stdout",
     "output_type": "stream",
     "text": [
      "[0.02753417 0.00496583 3.0825     0.0405    ]\n"
     ]
    }
   ],
   "source": [
    "import numpy as np\n",
    "A = np.array([[3.0825, 0, 0, 0], [0, 0.0405, 0, 0], [0, 0, 0.0271, -0.0031], \\\n",
    "     [0, 0, -0.0031, 0.0054]])\n",
    "valeurs_propres = np.linalg.eig(A)[0]\n",
    "print(valeurs_propres)"
   ]
  },
  {
   "cell_type": "markdown",
   "metadata": {},
   "source": [
    "Toutes les valeurs propres de A étant strictement positives, A est symétrique définie positive. Par conséquent, la fonction de coût quadratique f est convexe.\\\n",
    "De plus, l'ensemble de recherche est convexe, car les contraintes sont toutes affines.\n",
    "On a donc ***l'existence d'un unique minimum global***.\\\n",
    "\\\n",
    "Le conditionnement du problème vaut :\n",
    "$$K(A) = \\frac{max(Sp(A))}{min(Sp(A))} = 620,7$$\n",
    "**faire des recherches sur le conditionnement**\n",
    "\\\n",
    "Au vu des divers hypothèses et de la forme du problème, on propose d'utiliser ***l'algorithme des contraintes actives*** que nous avons vu dans le poly d'optimisation p.39."
   ]
  },
  {
   "cell_type": "markdown",
   "metadata": {},
   "source": [
    "**Etape 2 (a) de l'algorithme : résolution du problème d'otpimisation sous contraintes d'égalité** \\\n",
    "L'étape consiste à résoudre $\\displaystyle \\min_{c_i^Tp = 0, i \\in W^k} \\frac{1}{2}p^TGp + (Gx^k + d)^Tp$.\n",
    "On introduit le Lagrangien du problème $\\mathcal{L}(p, \\lambda) = \\frac{1}{2}p^TGp + (Gx^k + d)^Tp + \\lambda^TD^Tp$ ou $D$ est la matrice composée des colonnes $c_i$ de C pour $i \\in W^k$.\n",
    "Un point stationnaire du Lagrangien sans contraintes est un point stationnaire de la fonction coût sous contraintes : on cherche donc le point $(p^*, \\lambda^*)$ qui annule les deux dérivées partielles de $\\mathcal{L}$.\n",
    "$$\n",
    "\\begin{align}\n",
    "\\frac{\\partial\\mathcal{L}}{\\partial\\lambda}(p^*, \\lambda^*) &= 0 = D^Tp \\\\\n",
    "\\frac{\\partial\\mathcal{L}}{\\partial p}(p^*, \\lambda^*) &= 0 = Ap + (Ax^k + b) + D\\lambda \\\\\n",
    "\\end{align}$$\n",
    "On réécrit le problème sous forme matricielle car c'est la formulation qui peut être exploitée avec la fonction numpy `np.linalg.solve`.\n",
    "$$\n",
    "\\begin{pmatrix} D^T&0 \\\\\n",
    "A&D\\\\\n",
    "\\end{pmatrix}\n",
    "\\begin{pmatrix} p \\\\\n",
    "\\lambda \\\\\n",
    "\\end{pmatrix}\n",
    "=\n",
    "\\begin{pmatrix} 0 \\\\\n",
    "-Ax^k - b \\\\\n",
    "\\end{pmatrix}\n",
    "$$"
   ]
  },
  {
   "cell_type": "code",
   "execution_count": 1,
   "metadata": {},
   "outputs": [],
   "source": [
    "#Algorithme des contraintes actives\n",
    "import numpy as np\n",
    "\n",
    "A = np.array([[3.0825, 0, 0, 0], [0, 0.0405, 0, 0], [0, 0, 0.0271, -0.0031], \\\n",
    "     [0, 0, -0.0031, 0.0054]])\n",
    "b = np.array([[2671], [135], [103], [19]])\n",
    "C = np.array([[-0.0401, -0.0162, -0.0039, 0.0002], \\\n",
    "    [-0.1326, -0.0004, -0.0034, 0.0006], [1.5413, 0, 0, 0], \\\n",
    "    [0, 0.0203, 0, 0], [0, 0, 0.0136, -0.0015], \\\n",
    "    [0, 0, -0.0016, 0.0027], [0.0160, 0.0004, 0.0005, 0.0002]]).transpose()\n",
    "d = np.array([[-92.6], [-29.0], [2671], [135], [103], [19], [10]])\n",
    "eps = 1e-8 # paramètre donnant la valeur maximale des composantes\n",
    "# de la direction pk pour que pk ne soit pas considérée comme nulle.\n",
    "\n",
    "def f(p):\n",
    "    return float(0.5 * np.matmul(p.transpose(), np.matmul(A, p)) - np.dot(b.transpose(), p))\n",
    "\n",
    "def c(p):\n",
    "    return np.matmul(C.transpose(), p) - d\n",
    "\n",
    "def xk_is_solution(xk, Wk):\n",
    "    ''' Etape 1 de l'algorithme des contraintes actives.\n",
    "    Détermine, grâce aux conditions KKT, si xk est une solution du problème\n",
    "    d'optimisation restreint aux contraintes de Wk.'''\n",
    "    grad_contraintes = C[:, Wk]\n",
    "    rg = np.linalg.matrix_rank(grad_contraintes)\n",
    "    if rg == len(Wk):\n",
    "        # Les contraintes actives sont qualifiées\n",
    "        Lambda = np.linalg.solve(-grad_contraintes, xk)\n",
    "        return all([Lambda[i, 0] > 0 for i in range(Lambda.shape[0])]), Lambda\n",
    "    else:\n",
    "        # Les contraintes actives ne sont pas qualifiées\n",
    "        return False, None\n",
    "\n",
    "W0 = [0, 1, 2, 3] # arbitraire mais permet de n'avoir qu'un point de départ possible\n",
    "# car le système à résoudre contient 4 équations pour 4 inconnues.\n",
    "# Recherche de p0 où ces 4 contraintes sont actives\n",
    "CC = C[:, W0]\n",
    "dd = d[W0, :]\n",
    "x0 = np.linalg.solve(CC.transpose(), dd)\n",
    "\n",
    "def contraintes():\n",
    "    xk = x0\n",
    "    Wk = W0\n",
    "    while True:\n",
    "        if xk_is_solution(xk, Wk)[0]:\n",
    "            return xk, Wk\n",
    "        # (a)\n",
    "        '''\n",
    "        L'étape (a) consiste à résoudre un problème d'optimisation sous\n",
    "        contraintes d'égalité. On cherche alors (p*, Lambda*) point stationnaire\n",
    "        du lagrangien associé. Cette recherche, comme présenté dans le notebook,\n",
    "        aboutit à la résolution d'un système linéaire.\n",
    "        '''\n",
    "        D = C[:, Wk]\n",
    "        E_ligne_0 = np.concatenate((D.transpose(), np.zeros((D.shape[1], D.shape[1]))), axis=1)\n",
    "        E_ligne_1 = np.concatenate((A, D), axis=1)\n",
    "        E = np.concatenate((E_ligne_0, E_ligne_1), axis=0)\n",
    "        F = np.concatenate((np.zeros((D.shape[1], 1)), -np.matmul(A, xk) + b), axis=0)\n",
    "        X = np.linalg.solve(E, F)\n",
    "        pk = X[0:4, :]\n",
    "        if any([abs(pk[i, 0]) > eps for i in range(4)]):\n",
    "            # (b) : pk != 0\n",
    "            W_barre = [i for i in range(7) if i not in Wk]\n",
    "            L, indices = [], []\n",
    "            for i in W_barre:\n",
    "                c_i = C[:,i]\n",
    "                if np.dot(c_i, pk) > 0:\n",
    "                    L.append((d[i, 0] - np.dot(c_i, xk))/np.dot(c_i, pk))\n",
    "                    indices.append(i)\n",
    "            if L != []:\n",
    "                alphak = min(1, min(L))\n",
    "            else:\n",
    "                alphak = 1\n",
    "            xk = xk + alphak*pk\n",
    "            if alphak < 1:\n",
    "                j = indices[L.index(min(L))]\n",
    "                Wk.append(j)\n",
    "        else:\n",
    "            # (c) ! pk = 0\n",
    "            booleen, Lambda = xk_is_solution(xk, Wk)\n",
    "            if booleen:\n",
    "                return xk, Wk\n",
    "            Lambda = Lambda.tolist()\n",
    "            c = Lambda.index(min(Lambda))\n",
    "            del Wk[c]\n",
    "    return xk, Wk"
   ]
  },
  {
   "cell_type": "code",
   "execution_count": 2,
   "metadata": {},
   "outputs": [
    {
     "ename": "LinAlgError",
     "evalue": "Last 2 dimensions of the array must be square",
     "output_type": "error",
     "traceback": [
      "\u001b[1;31m---------------------------------------------------------------------------\u001b[0m",
      "\u001b[1;31mLinAlgError\u001b[0m                               Traceback (most recent call last)",
      "\u001b[1;32m<ipython-input-2-a2be22a118b3>\u001b[0m in \u001b[0;36m<module>\u001b[1;34m\u001b[0m\n\u001b[1;32m----> 1\u001b[1;33m \u001b[0mcontraintes\u001b[0m\u001b[1;33m(\u001b[0m\u001b[1;33m)\u001b[0m\u001b[1;33m\u001b[0m\u001b[1;33m\u001b[0m\u001b[0m\n\u001b[0m",
      "\u001b[1;32m<ipython-input-1-b71bd3cdb780>\u001b[0m in \u001b[0;36mcontraintes\u001b[1;34m()\u001b[0m\n\u001b[0;32m     44\u001b[0m     \u001b[0mWk\u001b[0m \u001b[1;33m=\u001b[0m \u001b[0mW0\u001b[0m\u001b[1;33m\u001b[0m\u001b[1;33m\u001b[0m\u001b[0m\n\u001b[0;32m     45\u001b[0m     \u001b[1;32mwhile\u001b[0m \u001b[1;32mTrue\u001b[0m\u001b[1;33m:\u001b[0m\u001b[1;33m\u001b[0m\u001b[1;33m\u001b[0m\u001b[0m\n\u001b[1;32m---> 46\u001b[1;33m         \u001b[1;32mif\u001b[0m \u001b[0mxk_is_solution\u001b[0m\u001b[1;33m(\u001b[0m\u001b[0mxk\u001b[0m\u001b[1;33m,\u001b[0m \u001b[0mWk\u001b[0m\u001b[1;33m)\u001b[0m\u001b[1;33m[\u001b[0m\u001b[1;36m0\u001b[0m\u001b[1;33m]\u001b[0m\u001b[1;33m:\u001b[0m\u001b[1;33m\u001b[0m\u001b[1;33m\u001b[0m\u001b[0m\n\u001b[0m\u001b[0;32m     47\u001b[0m             \u001b[1;32mreturn\u001b[0m \u001b[0mxk\u001b[0m\u001b[1;33m,\u001b[0m \u001b[0mWk\u001b[0m\u001b[1;33m\u001b[0m\u001b[1;33m\u001b[0m\u001b[0m\n\u001b[0;32m     48\u001b[0m         \u001b[1;31m# (a)\u001b[0m\u001b[1;33m\u001b[0m\u001b[1;33m\u001b[0m\u001b[1;33m\u001b[0m\u001b[0m\n",
      "\u001b[1;32m<ipython-input-1-b71bd3cdb780>\u001b[0m in \u001b[0;36mxk_is_solution\u001b[1;34m(xk, Wk)\u001b[0m\n\u001b[0;32m     27\u001b[0m     \u001b[1;32mif\u001b[0m \u001b[0mrg\u001b[0m \u001b[1;33m==\u001b[0m \u001b[0mlen\u001b[0m\u001b[1;33m(\u001b[0m\u001b[0mWk\u001b[0m\u001b[1;33m)\u001b[0m\u001b[1;33m:\u001b[0m\u001b[1;33m\u001b[0m\u001b[1;33m\u001b[0m\u001b[0m\n\u001b[0;32m     28\u001b[0m         \u001b[1;31m# Les contraintes actives sont qualifiées\u001b[0m\u001b[1;33m\u001b[0m\u001b[1;33m\u001b[0m\u001b[1;33m\u001b[0m\u001b[0m\n\u001b[1;32m---> 29\u001b[1;33m         \u001b[0mLambda\u001b[0m \u001b[1;33m=\u001b[0m \u001b[0mnp\u001b[0m\u001b[1;33m.\u001b[0m\u001b[0mlinalg\u001b[0m\u001b[1;33m.\u001b[0m\u001b[0msolve\u001b[0m\u001b[1;33m(\u001b[0m\u001b[1;33m-\u001b[0m\u001b[0mgrad_contraintes\u001b[0m\u001b[1;33m,\u001b[0m \u001b[0mxk\u001b[0m\u001b[1;33m)\u001b[0m\u001b[1;33m\u001b[0m\u001b[1;33m\u001b[0m\u001b[0m\n\u001b[0m\u001b[0;32m     30\u001b[0m         \u001b[1;32mreturn\u001b[0m \u001b[0mall\u001b[0m\u001b[1;33m(\u001b[0m\u001b[1;33m[\u001b[0m\u001b[0mLambda\u001b[0m\u001b[1;33m[\u001b[0m\u001b[0mi\u001b[0m\u001b[1;33m,\u001b[0m \u001b[1;36m0\u001b[0m\u001b[1;33m]\u001b[0m \u001b[1;33m>\u001b[0m \u001b[1;36m0\u001b[0m \u001b[1;32mfor\u001b[0m \u001b[0mi\u001b[0m \u001b[1;32min\u001b[0m \u001b[0mrange\u001b[0m\u001b[1;33m(\u001b[0m\u001b[0mLambda\u001b[0m\u001b[1;33m.\u001b[0m\u001b[0mshape\u001b[0m\u001b[1;33m[\u001b[0m\u001b[1;36m0\u001b[0m\u001b[1;33m]\u001b[0m\u001b[1;33m)\u001b[0m\u001b[1;33m]\u001b[0m\u001b[1;33m)\u001b[0m\u001b[1;33m,\u001b[0m \u001b[0mLambda\u001b[0m\u001b[1;33m\u001b[0m\u001b[1;33m\u001b[0m\u001b[0m\n\u001b[0;32m     31\u001b[0m     \u001b[1;32melse\u001b[0m\u001b[1;33m:\u001b[0m\u001b[1;33m\u001b[0m\u001b[1;33m\u001b[0m\u001b[0m\n",
      "\u001b[1;32m~\\Anaconda3\\lib\\site-packages\\numpy\\linalg\\linalg.py\u001b[0m in \u001b[0;36msolve\u001b[1;34m(a, b)\u001b[0m\n\u001b[0;32m    388\u001b[0m     \u001b[0ma\u001b[0m\u001b[1;33m,\u001b[0m \u001b[0m_\u001b[0m \u001b[1;33m=\u001b[0m \u001b[0m_makearray\u001b[0m\u001b[1;33m(\u001b[0m\u001b[0ma\u001b[0m\u001b[1;33m)\u001b[0m\u001b[1;33m\u001b[0m\u001b[1;33m\u001b[0m\u001b[0m\n\u001b[0;32m    389\u001b[0m     \u001b[0m_assertRankAtLeast2\u001b[0m\u001b[1;33m(\u001b[0m\u001b[0ma\u001b[0m\u001b[1;33m)\u001b[0m\u001b[1;33m\u001b[0m\u001b[1;33m\u001b[0m\u001b[0m\n\u001b[1;32m--> 390\u001b[1;33m     \u001b[0m_assertNdSquareness\u001b[0m\u001b[1;33m(\u001b[0m\u001b[0ma\u001b[0m\u001b[1;33m)\u001b[0m\u001b[1;33m\u001b[0m\u001b[1;33m\u001b[0m\u001b[0m\n\u001b[0m\u001b[0;32m    391\u001b[0m     \u001b[0mb\u001b[0m\u001b[1;33m,\u001b[0m \u001b[0mwrap\u001b[0m \u001b[1;33m=\u001b[0m \u001b[0m_makearray\u001b[0m\u001b[1;33m(\u001b[0m\u001b[0mb\u001b[0m\u001b[1;33m)\u001b[0m\u001b[1;33m\u001b[0m\u001b[1;33m\u001b[0m\u001b[0m\n\u001b[0;32m    392\u001b[0m     \u001b[0mt\u001b[0m\u001b[1;33m,\u001b[0m \u001b[0mresult_t\u001b[0m \u001b[1;33m=\u001b[0m \u001b[0m_commonType\u001b[0m\u001b[1;33m(\u001b[0m\u001b[0ma\u001b[0m\u001b[1;33m,\u001b[0m \u001b[0mb\u001b[0m\u001b[1;33m)\u001b[0m\u001b[1;33m\u001b[0m\u001b[1;33m\u001b[0m\u001b[0m\n",
      "\u001b[1;32m~\\Anaconda3\\lib\\site-packages\\numpy\\linalg\\linalg.py\u001b[0m in \u001b[0;36m_assertNdSquareness\u001b[1;34m(*arrays)\u001b[0m\n\u001b[0;32m    211\u001b[0m         \u001b[0mm\u001b[0m\u001b[1;33m,\u001b[0m \u001b[0mn\u001b[0m \u001b[1;33m=\u001b[0m \u001b[0ma\u001b[0m\u001b[1;33m.\u001b[0m\u001b[0mshape\u001b[0m\u001b[1;33m[\u001b[0m\u001b[1;33m-\u001b[0m\u001b[1;36m2\u001b[0m\u001b[1;33m:\u001b[0m\u001b[1;33m]\u001b[0m\u001b[1;33m\u001b[0m\u001b[1;33m\u001b[0m\u001b[0m\n\u001b[0;32m    212\u001b[0m         \u001b[1;32mif\u001b[0m \u001b[0mm\u001b[0m \u001b[1;33m!=\u001b[0m \u001b[0mn\u001b[0m\u001b[1;33m:\u001b[0m\u001b[1;33m\u001b[0m\u001b[1;33m\u001b[0m\u001b[0m\n\u001b[1;32m--> 213\u001b[1;33m             \u001b[1;32mraise\u001b[0m \u001b[0mLinAlgError\u001b[0m\u001b[1;33m(\u001b[0m\u001b[1;34m'Last 2 dimensions of the array must be square'\u001b[0m\u001b[1;33m)\u001b[0m\u001b[1;33m\u001b[0m\u001b[1;33m\u001b[0m\u001b[0m\n\u001b[0m\u001b[0;32m    214\u001b[0m \u001b[1;33m\u001b[0m\u001b[0m\n\u001b[0;32m    215\u001b[0m \u001b[1;32mdef\u001b[0m \u001b[0m_assertFinite\u001b[0m\u001b[1;33m(\u001b[0m\u001b[1;33m*\u001b[0m\u001b[0marrays\u001b[0m\u001b[1;33m)\u001b[0m\u001b[1;33m:\u001b[0m\u001b[1;33m\u001b[0m\u001b[1;33m\u001b[0m\u001b[0m\n",
      "\u001b[1;31mLinAlgError\u001b[0m: Last 2 dimensions of the array must be square"
     ]
    }
   ],
   "source": [
    "contraintes()"
   ]
  },
  {
   "cell_type": "code",
   "execution_count": null,
   "metadata": {},
   "outputs": [],
   "source": []
  }
 ],
 "metadata": {
  "kernelspec": {
   "display_name": "Python 3",
   "language": "python",
   "name": "python3"
  },
  "language_info": {
   "codemirror_mode": {
    "name": "ipython",
    "version": 3
   },
   "file_extension": ".py",
   "mimetype": "text/x-python",
   "name": "python",
   "nbconvert_exporter": "python",
   "pygments_lexer": "ipython3",
   "version": "3.7.4"
  }
 },
 "nbformat": 4,
 "nbformat_minor": 2
}
