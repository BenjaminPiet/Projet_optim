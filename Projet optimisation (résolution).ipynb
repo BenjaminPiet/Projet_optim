{
 "cells": [
  {
   "cell_type": "markdown",
   "metadata": {},
   "source": [
    "# Projet Optimisation (groupe 6) - Benjamin Piet & Damien Capéraa\n",
    "\n",
    "### 2. Etude et resolution numerique\n",
    "\n",
    "1) On se retrouve donc avec un problème de la forme\n",
    "$min(\\frac{1}{2}p^TAp-b^Tp|C^Tp-d<=0)$\\\n",
    "On note $f(p)=\\frac{1}{2}p^TAp-b^Tp$ et $c(p)=C^Tp-d$ \\\n",
    "\\\n",
    "Tout d'abord, la fonction f est ***fortement convexe*** car la matrice A est symmetrique definie positive. En effet, si on calcule ses valeurs propres via python:"
   ]
  },
  {
   "cell_type": "code",
   "execution_count": 3,
   "metadata": {},
   "outputs": [
    {
     "name": "stdout",
     "output_type": "stream",
     "text": [
      "[0.02753417 0.00496583 3.0825     0.0405    ]\n"
     ]
    }
   ],
   "source": [
    "import numpy as np\n",
    "A = np.array([[3.0825, 0, 0, 0], [0, 0.0405, 0, 0], [0, 0, 0.0271, -0.0031], \\\n",
    "     [0, 0, -0.0031, 0.0054]])\n",
    "valeurs_propres=np.linalg.eig(A)[0]\n",
    "print(valeurs_propres)"
   ]
  },
  {
   "cell_type": "markdown",
   "metadata": {},
   "source": [
    "On trouve que ses valeurs propres sont toutes >0, donc A  symmetrique definie positive\\\n",
    "De plus, ***l'ensemble de recherche est convexe***, car les contraintes sont toutes affines.\n",
    "On a donc ***l'existence d'un unique minimum global***.\\\n",
    "\\\n",
    "Au vu des divers hypothèses et de la forme du problème, on propose d'utiliser ***l'algorithme des contraintes actives*** que nous avons vu dans le poly d'optimisation\n",
    "\n"
   ]
  },
  {
   "cell_type": "code",
   "execution_count": null,
   "metadata": {
    "collapsed": true
   },
   "outputs": [],
   "source": [
    "#Algorithme des contraintes actives"
   ]
  }
 ],
 "metadata": {
  "kernelspec": {
   "display_name": "Python 3",
   "language": "python",
   "name": "python3"
  },
  "language_info": {
   "codemirror_mode": {
    "name": "ipython",
    "version": 3
   },
   "file_extension": ".py",
   "mimetype": "text/x-python",
   "name": "python",
   "nbconvert_exporter": "python",
   "pygments_lexer": "ipython3",
   "version": "3.7.3"
  }
 },
 "nbformat": 4,
 "nbformat_minor": 2
}
