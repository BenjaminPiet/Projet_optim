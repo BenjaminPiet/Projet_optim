{
 "cells": [
  {
   "cell_type": "markdown",
   "metadata": {},
   "source": [
    "# Projet Optimisation (groupe 6)\n",
    "\n",
    "## Sujet\n",
    "\n",
    "Le gouvernement hollandais souhaite maximiser les profits qu’il fait par la vente de produits dérivés du lait. Ce lait, brut, est acheté aux agriculteurs locaux à un prix fixe et est utilisé dans la fabrication de quatre produits : lait (à la consommation), beurre, gouda et edam. Ainsi, le gouvernement cherche la production optimale de ces quatres produits laitiers permettant de maximiser ses profits issus de leur vente.\n",
    " \n",
    "### Modélisation\n",
    "\n",
    "On commence par introduire quelques notations:"
   ]
  },
  {
   "cell_type": "markdown",
   "metadata": {},
   "source": [
    "$y_l$ et $p_l(y_l)$ respectivement la quantité et le prix de vente au kilogramme du lait"
   ]
  },
  {
   "cell_type": "markdown",
   "metadata": {},
   "source": [
    "$y_b$ et $p_b(y_b)$ respectivement la quantité et le prix de vente au kilogramme du beurre"
   ]
  },
  {
   "cell_type": "markdown",
   "metadata": {},
   "source": [
    "$y_g$ et $p_g(y_g)$ respectivement la quantité et le prix de vente au kilogramme du gouda"
   ]
  },
  {
   "cell_type": "markdown",
   "metadata": {},
   "source": [
    "$y_e$ et $p_e(y_e)$ respectivement la quantité et le prix de vente au kilogramme du edam"
   ]
  },
  {
   "cell_type": "markdown",
   "metadata": {},
   "source": [
    "Le problème d'optimisation est alors celui de trouver les $y_l$, $y_b$, $y_g$ et $y_e$ qui maximisent $y_l p_l(y_l)+y_b p_b(y_b)+y_g p_g(y_g)+y_e p_e(y_e)$\n",
    "\n"
   ]
  },
  {
   "cell_type": "markdown",
   "metadata": {},
   "source": [
    "#### Question 1\n",
    "On introduit les élasticité-prix de chaque produit : $\\epsilon _l$ , $\\epsilon_b$, $\\epsilon_g$ , $\\epsilon_e$ .\n",
    "Les fromages sont de plus substituables, donc on introduit l'élasticité croisée: $\\epsilon _{ge}$"
   ]
  },
  {
   "cell_type": "markdown",
   "metadata": {},
   "source": [
    "On a alors (en désignant par i les différents indices l,b,g,e): $\\frac{\\partial p_i}{\\partial y_i}(y_i)=\\frac{p_i(y_i)}{y_i\\epsilon_i}$"
   ]
  },
  {
   "cell_type": "markdown",
   "metadata": {},
   "source": [
    "De plus, avec l'élasticité croisée: $\\frac{\\partial p_e}{\\partial y_g}(y_e)=\\frac{p_e(y_e)}{y_g\\epsilon_{ge}}$ et $\\frac{\\partial p_g}{\\partial y_e}(y_g)=\\frac{p_g(y_g)\\epsilon_{ge}}{y_e}$"
   ]
  },
  {
   "cell_type": "markdown",
   "metadata": {},
   "source": [
    "#### Question 2\n",
    "Soit $n$ la teneur en matière grasse du lait brut et y la quantité de l'ait brute dont le gouvernement hollandais dispose. $ny$ est la quantité de lactose initiale à répartir dans les quatre productions.\n",
    "Soient $n_l$, $n_b$, $n_g$, $n_e$ les teneurs en matière grasse respectives du lait de consommation, du beurre, du gouda et de l'edam.\n",
    "La nouvelle contrainte s'obtient en appliquant la conservation de la quantité de matière grasse entre le lait brut et les produits :\n",
    "$$n_ly_l + n_by_b + n_gy_g + n_ey_e = ny$$"
   ]
  },
  {
   "cell_type": "markdown",
   "metadata": {},
   "source": [
    "#### Question 3\n",
    "Le raisonnement est proche de celui de la question 2. On note $m$, $m_l$, $m_b$, $m_g$ et $m_e$ les teneurs en lactose du lait brut, du lait de consommation, du beurre, du gouda et de l'edam. La conservation de la quantité de lactose donne :\n",
    "$$m_ly_l + m_by_b + m_gy_g + m_ey_e = my$$"
   ]
  },
  {
   "cell_type": "markdown",
   "metadata": {},
   "source": [
    "#### Question 4\n",
    "La moyenne des changements de prix relatifs pondérée par la part de chacun des produits dans le budget s'écrit :\n",
    "$$ \\frac{1}{p_l + p_b + p_g + p_e}\\Big(p_l\\frac{\\Delta p_l}{p_l} + p_b\\frac{\\Delta p_b}{p_b} + p_g\\frac{\\Delta p_g}{p_g} + p_e\\frac{\\Delta p_e}{p_e} \\Big) $$\n",
    "$$= \\frac{\\Delta p_l + \\Delta p_b + \\Delta p_g + \\Delta p_e}{p_l + p_b + p_g + p_e} \\leq 0$$"
   ]
  }
 ],
 "metadata": {
  "kernelspec": {
   "display_name": "Python 3",
   "language": "python",
   "name": "python3"
  },
  "language_info": {
   "codemirror_mode": {
    "name": "ipython",
    "version": 3
   },
   "file_extension": ".py",
   "mimetype": "text/x-python",
   "name": "python",
   "nbconvert_exporter": "python",
   "pygments_lexer": "ipython3",
   "version": "3.7.4"
  }
 },
 "nbformat": 4,
 "nbformat_minor": 2
}
