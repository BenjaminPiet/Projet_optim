{
 "cells": [
  {
   "cell_type": "markdown",
   "metadata": {},
   "source": [
    "# Projet Optimisation (groupe 6)\n",
    "\n",
    "### Modélisation\n",
    "\n",
    "##### Sujet :\n",
    " Le gouvernement hollandais souhaite maximiser lesprofits qu’il fait par la vente de produits dérivés dulait. Ce lait, brut, est acheté aux agriculteurs locaux à un prix fixe et est utilisé dans la fabrication de quatreproduits : lait (à la consommation), beurre, gouda et edam. Ainsi, le gouvernement cherche la production optimale de ces quatres produits laitiers permettant de maximiser ses profits issus de leur vente.\n",
    " \n",
    "##### Question :\n",
    "\n",
    "On commence par introduire quelques notations:"
   ]
  },
  {
   "cell_type": "markdown",
   "metadata": {},
   "source": [
    "$y_l$ et $p_l(y_l)$ respectivement la quantité et le prix de vente au kilogramme du lait"
   ]
  },
  {
   "cell_type": "markdown",
   "metadata": {},
   "source": [
    "$y_b$ et $p_b(y_b)$ respectivement la quantité et le prix de vente au kilogramme du beurre"
   ]
  },
  {
   "cell_type": "markdown",
   "metadata": {},
   "source": [
    "$y_g$ et $p_g(y_g)$ respectivement la quantité et le prix de vente au kilogramme du gouda"
   ]
  },
  {
   "cell_type": "markdown",
   "metadata": {},
   "source": [
    "$y_e$ et $p_e(y_e)$ respectivement la quantité et le prix de vente au kilogramme du edam"
   ]
  },
  {
   "cell_type": "markdown",
   "metadata": {},
   "source": [
    "Le problème d'optimisation est alors celui de trouver les $y_l$, $y_b$, $y_g$ et $y_e$ qui maximisent $y_l p_l(y_l)+y_b p_b(y_b)+y_g p_g(y_g)+y_e p_e(y_e)$\n",
    "\n"
   ]
  },
  {
   "cell_type": "markdown",
   "metadata": {},
   "source": [
    "Q1) On introduit les élasticité-prix de chaque produit : $\\epsilon _l$ , $\\epsilon_b$, $\\epsilon_g$ , $\\epsilon_e$ .\n",
    "Les fromages sont de plus substituables, donc on introduit l'élasticité croisée: $\\epsilon _{ge}$"
   ]
  },
  {
   "cell_type": "markdown",
   "metadata": {},
   "source": [
    "On a alors (en désignant par i les différents indices l,b,g,e): $\\frac{\\partial p_i}{\\partial y_i}(y_i)=\\frac{p_i(y_i)}{y_i\\epsilon_i}$"
   ]
  },
  {
   "cell_type": "markdown",
   "metadata": {},
   "source": [
    "De plus, avec l'élasticité croisée: $\\frac{\\partial p_e}{\\partial y_g}(y_e)=\\frac{p_e(y_e)}{y_g\\epsilon_{ge}}$ et $\\frac{\\partial p_g}{\\partial y_e}(y_g)=\\frac{p_g(y_g)\\epsilon_{ge}}{y_e}$"
   ]
  }
 ],
 "metadata": {
  "kernelspec": {
   "display_name": "Python 3",
   "language": "python",
   "name": "python3"
  },
  "language_info": {
   "codemirror_mode": {
    "name": "ipython",
    "version": 3
   },
   "file_extension": ".py",
   "mimetype": "text/x-python",
   "name": "python",
   "nbconvert_exporter": "python",
   "pygments_lexer": "ipython3",
   "version": "3.7.3"
  }
 },
 "nbformat": 4,
 "nbformat_minor": 2
}
