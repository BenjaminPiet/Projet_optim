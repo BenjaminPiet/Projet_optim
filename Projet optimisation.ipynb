{
 "cells": [
  {
   "cell_type": "markdown",
   "metadata": {},
   "source": [
    "# Projet Optimisation (groupe 6) - Benjamin Piet & Damien Capéraa\n",
    "\n",
    "## Sujet\n",
    "\n",
    "Le gouvernement hollandais souhaite maximiser les profits qu’il fait par la vente de produits dérivés du lait. Ce lait, brut, est acheté aux agriculteurs locaux à un prix fixe et est utilisé dans la fabrication de quatre produits : lait (à la consommation), beurre, gouda et edam. Ainsi, le gouvernement cherche la production optimale de ces quatres produits laitiers permettant de maximiser ses profits issus de leur vente."
   ]
  },
  {
   "cell_type": "markdown",
   "metadata": {},
   "source": [
    "### Modélisation\n",
    "\n",
    "On commence par introduire quelques notations:\n",
    "* $y_l^t$ et $p_l^t$ respectivement la quantité et le prix de vente au kilogramme du lait à l'année t ;\n",
    "* $y_b^t$ et $p_b^t$ respectivement la quantité et le prix de vente au kilogramme du beurre à l'année t ;\n",
    "* $y_g^t$ et $p_g^t$ respectivement la quantité et le prix de vente au kilogramme du gouda à l'année t ;\n",
    "* $y_e^t$ et $p_e^t$ respectivement la quantité et le prix de vente au kilogramme du edam à l'année t.\n",
    "\n",
    "L'exposant t peut valoir $N$ ou $N+1$ et désigne l'année sur laquelle les variables $y$ et $p$ sont calculées. "
   ]
  },
  {
   "cell_type": "markdown",
   "metadata": {},
   "source": [
    "#### Question 1\n",
    "On introduit les élasticités-prix de chaque produit $\\epsilon_l$ , $\\epsilon_b$, $\\epsilon_g$ , $\\epsilon_e$ respectivement pour le lait de consommation, le beurre, le gouda et l'edam :\n",
    "$$\\epsilon_i = \\frac{\\frac{\\Delta y_i}{y_i}}{\\frac{\\Delta p_i}{p_i}} = \\frac{\\Delta y_i}{\\Delta p_i}*\\frac{p_i}{y_i} = \\frac{y_i^{N+1} - y_i^N}{p_i^{N+1} - p_i^N}*\\frac{p_i^N}{y_i^N} \\quad \\forall i \\in \\{l, b, g, e\\}$$\n",
    "D'où :\n",
    "$$p_i^{N+1} = p_i^N + \\frac{1}{\\epsilon_i} * (y_i^{N+1} - y_i^N) * \\frac{p_i^N}{y_i^N}$$\n",
    "Nous pouvons alors **restreindre notre problème d'otpimisation aux variables de quantités**, les variables de prix pouvant être déduites à l'aide de ces relations. On passe de 8 à 4 variables à optimiser.\\\n",
    "\\\n",
    "Les fromages étant de plus substituables, on introduit l'élasticité-prix croisée entre le gouda et l'edam:\n",
    "$$\\epsilon_{ge} = \\frac{\\frac{\\Delta y_g}{y_g}}{\\frac{\\Delta p_e}{p_e}} = \\frac{\\Delta y_g}{\\Delta p_e} * \\frac{p_e}{y_g} = \\frac{y_g^{N+1} - y_g^N}{p_e^{N+1} - p_e^N} * \\frac{p_e^N}{y_g^N} \\ge 0$$\n",
    "D'où :\n",
    "$$ y_g^{N+1} = y_g^N + (p_e^{N+1} - p_e^N)*\\epsilon_{eg}*\\frac{y_g^N}{p_e^N}$$\n",
    "À nouveau, nous pouvons **réduire le nombre de variables** : si l'on connaît la quantité d'edam, on connaît son prix, et on peut en déduire la quantité en gouda à  l'année N+1. On exclut donc $y_g^{N+1}$. On passe de 4 à 3 variables à optimiser."
   ]
  },
  {
   "cell_type": "markdown",
   "metadata": {},
   "source": [
    "#### Question 2\n",
    "Soit $m$ la teneur en matière grasse du lait brut et $y^{N+1}$ la quantité de lait brute dont le gouvernement hollandais dispose. $my^{N+1}$ est la quantité de lactose initiale à répartir dans les quatre productions.\n",
    "Soient $m_l$, $m_b$, $m_g$, $m_e$ les teneurs en matière grasse respectives du lait de consommation, du beurre, du gouda et de l'edam.\n",
    "La nouvelle contrainte s'obtient en appliquant la conservation de la quantité de matière grasse entre le lait brut et les produits :\n",
    "$$m_ly_l^{N+1} + m_by_b^{N+1} + m_gy_g^{N+1} + m_ey_e^{N+1} = my^{N+1}$$"
   ]
  },
  {
   "cell_type": "markdown",
   "metadata": {},
   "source": [
    "#### Question 3\n",
    "Le raisonnement est proche de celui de la question 2. On note $n$, $n_l$, $n_b$, $n_g$ et $n_e$ les teneurs en lactose du lait brut, du lait de consommation, du beurre, du gouda et de l'edam. La conservation de la quantité de lactose donne :\n",
    "$$n_ly_l^{N+1} + n_by_b^{N+1} + n_gy_g^{N+1} + n_ey_e^{N+1} = ny^{N+1}$$"
   ]
  },
  {
   "cell_type": "markdown",
   "metadata": {},
   "source": [
    "#### Question 4\n",
    "On introduit les coefficients $\\alpha_i$ représentant le poucentage de la production $i$ dans le budget total de l'État à l'année N :\n",
    "$$\\alpha_i = \\frac{p_i^Ny_i^N}{p_l^Ny_l^N + p_b^Ny_b^N + p_g^Ny_g^N + p_e^Ny_e^N}$$\n",
    "La moyenne des changements de prix relatifs pondérée par la part de chacun des produits dans le budget s'écrit :\n",
    "$$ \\alpha_l\\frac{\\Delta p_l}{p_l} + \\alpha_b\\frac{\\Delta p_b}{p_b} + \\alpha_g\\frac{\\Delta p_g}{p_g} + \\alpha_e\\frac{\\Delta p_e}{p_e} \\leq 0 \\quad \\quad avec \\quad \\Delta p_i = p_i^{N+1} - p_i^N$$"
   ]
  },
  {
   "cell_type": "markdown",
   "metadata": {},
   "source": [
    "#### Question 5\n",
    "\n",
    "Les données du problème sont : le prix d'achat unitaire du lait par le gouvernement $P$, la quantité de lait brut achetée pour l'année N+1 $y^{N+1}$, les quantités $y_i^N$ et les prix $p_i^N$ à l'année N, les élasticités-prix $\\epsilon_i$, l'élasticité-prix croisée $\\epsilon_{ge}$, les teneurs en matières grasse $m_i$ et $m$, les teneurs en lactose $n_i$ et $n$. Les coefficients $\\alpha_i$ définis dans la question 4 sont donc connus.\\\n",
    "Notre problème consiste à maximiser le profit réalisé par l'État hollandais :\n",
    "$$\\max_{y\\,=\\,(y_l^{N+1}, y_b^{N+1}, y_e^{N+1})} y_l^{N+1} p_l^{N+1} + y_b^{N+1} p_b^{N+1} + y_e^{N+1} p_e^{N+1} + y_g^{N+1} p_g^{N+1} $$\n",
    "où on a noté (ces notations ne sont pas des contraintes, on peut les voir comme des grandeurs permettant d'alléger l'écriture du problème):\n",
    "$$\\begin{align}\n",
    "p_i^{N+1} &= p_i^N + \\frac{1}{\\epsilon_i} * (y_i^{N+1} - y_i^N) * \\frac{p_i^N}{y_i^N} \\quad \\forall i \\in \\{l, b, e, g\\}\\\\\n",
    "y_g^{N+1} &= y_g^N + (p_e^{N+1} - p_e^N)*\\epsilon_{eg}*\\frac{y_g^N}{p_e^N}\\\\\n",
    "\\end{align}$$\n",
    "avec les contraintes :\n",
    "$$\\begin {align}\n",
    "c_1(y) &= -y_l^{N+1} \\leq 0\\\\\n",
    "c_2(y) &= -y_b^{N+1} \\leq 0\\\\\n",
    "c_3(y) &= -y_e^{N+1} \\leq 0\\\\\n",
    "c_4(y) &= \\alpha_l\\frac{\\Delta p_l}{p_l} + \\alpha_b\\frac{\\Delta p_b}{p_b} + \\alpha_g\\frac{\\Delta p_g}{p_g} + \\alpha_e\\frac{\\Delta p_e}{p_e} \\leq 0\\\\\n",
    "c_5(y) &= m_ly_l^{N+1} + m_by_b^{N+1} + m_gy_g^{N+1} + m_ey_e^{N+1} - my^{N+1} = 0\\\\\n",
    "c_6(y) &= n_ly_l^{N+1} + n_by_b^{N+1} + n_gy_g^{N+1} + n_ey_e^{N+1} - ny^{N+1} = 0\\\\\n",
    "c_7(y) &= Py^{N+1} - y_l^{N+1} p_l^{N+1} - y_b^{N+1} p_b^{N+1} - y_g^{N+1} p_g^{N+1} - y_e^{N+1} p_e^{N+1} \\leq 0\\\\\n",
    "\\end{align}$$\n",
    "\n",
    "* $c_1$, $c_2$ et $c_3$ traduisent le fait que les quantités doivent être positives ;\n",
    "* $c_4$ est liée à la paix sociale (question 4) ;\n",
    "* $c_5$ est liée à la quantité de matière grasse (question 2) ;\n",
    "* $c_6$ est liée à la quantité de lactose (question 3) ;\n",
    "* $c_7$ traduit le fait que le gouvernement doit réaliser des bénéfices : il ne peut pas vendre moins cher que le prix d'achat du lait brut."
   ]
  }
 ],
 "metadata": {
  "kernelspec": {
   "display_name": "Python 3",
   "language": "python",
   "name": "python3"
  },
  "language_info": {
   "codemirror_mode": {
    "name": "ipython",
    "version": 3
   },
   "file_extension": ".py",
   "mimetype": "text/x-python",
   "name": "python",
   "nbconvert_exporter": "python",
   "pygments_lexer": "ipython3",
   "version": "3.7.4"
  }
 },
 "nbformat": 4,
 "nbformat_minor": 2
}
